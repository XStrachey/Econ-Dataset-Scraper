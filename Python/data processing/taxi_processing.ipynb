{
 "cells": [
  {
   "cell_type": "code",
   "execution_count": null,
   "id": "a0030c40",
   "metadata": {},
   "outputs": [],
   "source": [
    "import os\n",
    "import pandas as pd\n",
    "from sklearn.decomposition import PCA\n",
    "from sklearn.preprocessing import StandardScaler\n",
    "from datetime import datetime\n",
    "from workalendar.usa import Illinois\n",
    "\n",
    "RAW_DATA_DIR = \"../../data/raw data\"\n",
    "PROCESSED_DATA_DIR = \"../../data/processed data\"\n",
    "\n",
    "SUB_FOLDER = \"2020\"\n",
    "\n",
    "cal = Illinois()"
   ]
  },
  {
   "cell_type": "markdown",
   "id": "d5d2ad32",
   "metadata": {},
   "source": [
    "## Taxi Data"
   ]
  },
  {
   "cell_type": "code",
   "execution_count": null,
   "id": "6bb32148",
   "metadata": {},
   "outputs": [
    {
     "name": "stdout",
     "output_type": "stream",
     "text": [
      "Original record count: 5131859\n"
     ]
    }
   ],
   "source": [
    "taxi_trips = pd.read_csv(os.path.join(RAW_DATA_DIR, SUB_FOLDER, \"chicago_taxi_trips.csv\"))\n",
    "\n",
    "print(\"Original record count:\", len(taxi_trips))"
   ]
  },
  {
   "cell_type": "markdown",
   "id": "d1435b1d",
   "metadata": {},
   "source": [
    "### Data Cleaning"
   ]
  },
  {
   "cell_type": "code",
   "execution_count": null,
   "id": "63178122",
   "metadata": {},
   "outputs": [
    {
     "name": "stdout",
     "output_type": "stream",
     "text": [
      "Nan dropped record count: 1621195\n"
     ]
    }
   ],
   "source": [
    "taxi_trips = taxi_trips.dropna(subset=['trip_start_timestamp',\n",
    "                                     'trip_end_timestamp',\n",
    "                                     'trip_seconds',\n",
    "                                     'trip_miles',\n",
    "                                     'pickup_community_area',\n",
    "                                     'dropoff_community_area',\n",
    "                                     'fare',\n",
    "                                     'pickup_census_tract',\n",
    "                                     'dropoff_census_tract'])\n",
    "\n",
    "taxi_trips[\"trip_start_timestamp\"] = pd.to_datetime(taxi_trips[\"trip_start_timestamp\"])\n",
    "taxi_trips[\"trip_end_timestamp\"] = pd.to_datetime(taxi_trips[\"trip_end_timestamp\"])\n",
    "taxi_trips[\"trip_start_date\"] = taxi_trips[\"trip_start_timestamp\"].dt.date\n",
    "taxi_trips[\"trip_end_date\"] = taxi_trips[\"trip_end_timestamp\"].dt.date\n",
    "taxi_trips = taxi_trips[taxi_trips[\"trip_start_date\"] == taxi_trips[\"trip_end_date\"]]\n",
    "\n",
    "if (SUB_FOLDER == \"2020\"):\n",
    "    taxi_trips[\"cutoff\"] = pd.to_datetime(\"2020-01-06\")\n",
    "else:\n",
    "    taxi_trips[\"cutoff\"] = pd.to_datetime(\"2019-01-07\")\n",
    "taxi_trips[\"trip_start_date\"] = pd.to_datetime(taxi_trips[\"trip_start_date\"])\n",
    "taxi_trips[\"days_from_cutoff\"] = (taxi_trips[\"trip_start_date\"] - taxi_trips[\"cutoff\"]).dt.days\n",
    "taxi_trips = taxi_trips[taxi_trips[\"days_from_cutoff\"].between(-30, 30)]\n",
    "\n",
    "print(\"Nan dropped record count:\", len(taxi_trips))"
   ]
  },
  {
   "cell_type": "markdown",
   "id": "a36f3b71",
   "metadata": {},
   "source": [
    "### Data Manipulation"
   ]
  },
  {
   "cell_type": "code",
   "execution_count": null,
   "id": "ec10600b",
   "metadata": {},
   "outputs": [
    {
     "name": "stdout",
     "output_type": "stream",
     "text": [
      "Manipulated record count: 1621195\n"
     ]
    }
   ],
   "source": [
    "taxi_trips[\"nonworkday\"] = taxi_trips[\"trip_start_date\"].apply(lambda x: not cal.is_working_day(x)).astype(int)\n",
    "taxi_trips[\"trip_start_time_of_day\"] = taxi_trips[\"trip_start_timestamp\"].dt.time\n",
    "taxi_trips[\"trip_start_time_of_day_f\"] = taxi_trips[\"trip_start_time_of_day\"].apply(lambda x: x.hour + x.minute / 60 + x.second / 3600)\n",
    "taxi_trips[\"trip_during_peak\"] = taxi_trips[\"trip_start_time_of_day_f\"].apply(lambda x: (7 < x and x < 10) or (16.5 < x and x < 20.5)).astype(int)\n",
    "\n",
    "print(\"Manipulated record count:\", len(taxi_trips))"
   ]
  },
  {
   "cell_type": "markdown",
   "id": "078edbe9",
   "metadata": {},
   "source": [
    "### Save Data"
   ]
  },
  {
   "cell_type": "code",
   "execution_count": null,
   "id": "64a9a273",
   "metadata": {},
   "outputs": [],
   "source": [
    "taxi_trips.to_csv(os.path.join(PROCESSED_DATA_DIR, SUB_FOLDER, \"cleaned_taxi_data.csv\"), index=False)"
   ]
  }
 ],
 "metadata": {
  "language_info": {
   "name": "python"
  }
 },
 "nbformat": 4,
 "nbformat_minor": 5
}
