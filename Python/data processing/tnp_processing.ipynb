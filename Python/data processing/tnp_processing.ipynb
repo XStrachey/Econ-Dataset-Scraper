{
 "cells": [
  {
   "cell_type": "code",
   "execution_count": null,
   "id": "340f08b0",
   "metadata": {},
   "outputs": [],
   "source": [
    "import os\n",
    "import pandas as pd\n",
    "from sklearn.decomposition import PCA\n",
    "from sklearn.preprocessing import StandardScaler\n",
    "from datetime import datetime\n",
    "from workalendar.usa import Illinois\n",
    "\n",
    "RAW_DATA_DIR = \"../../data/raw data\"\n",
    "PROCESSED_DATA_DIR = \"../../data/processed data\"\n",
    "\n",
    "SUB_FOLDER = \"2020\"\n",
    "\n",
    "cal = Illinois()"
   ]
  },
  {
   "cell_type": "markdown",
   "id": "5fcdd891",
   "metadata": {},
   "source": [
    "## TNP Trips Data"
   ]
  },
  {
   "cell_type": "markdown",
   "id": "8177bdd8",
   "metadata": {},
   "source": [
    "### Data Manipulation"
   ]
  },
  {
   "cell_type": "code",
   "execution_count": null,
   "id": "ef993306",
   "metadata": {},
   "outputs": [
    {
     "name": "stdout",
     "output_type": "stream",
     "text": [
      "Manipulated record count: 7508517\n"
     ]
    }
   ],
   "source": [
    "tnp_trips[\"nonworkday\"] = tnp_trips[\"trip_start_date\"].apply(lambda x: not cal.is_working_day(x)).astype(int)\n",
    "tnp_trips[\"trip_start_time_of_day\"] = tnp_trips[\"trip_start_timestamp\"].dt.time\n",
    "tnp_trips[\"trip_start_time_of_day_f\"] = tnp_trips[\"trip_start_time_of_day\"].apply(lambda x: x.hour + x.minute / 60 + x.second / 3600)\n",
    "tnp_trips[\"trip_during_peak\"] = tnp_trips[\"trip_start_time_of_day_f\"].apply(lambda x: (7 < x and x < 10) or (16.5 < x and x < 20.5)).astype(int)\n",
    "\n",
    "print(\"Manipulated record count:\", len(tnp_trips))"
   ]
  },
  {
   "cell_type": "markdown",
   "id": "649cd6ec",
   "metadata": {},
   "source": [
    "### Save Data"
   ]
  },
  {
   "cell_type": "code",
   "execution_count": null,
   "id": "eea14a64",
   "metadata": {},
   "outputs": [],
   "source": [
    "tnp_trips.to_csv(os.path.join(PROCESSED_DATA_DIR, SUB_FOLDER, \"cleaned_tnp_data.csv\"), index=False)"
   ]
  },
  {
   "cell_type": "code",
   "execution_count": null,
   "id": "cff14f9a",
   "metadata": {},
   "outputs": [
    {
     "name": "stdout",
     "output_type": "stream",
     "text": [
      "Original record count: 32773716\n"
     ]
    }
   ],
   "source": [
    "tnp_trips = pd.read_csv(os.path.join(RAW_DATA_DIR, SUB_FOLDER, \"chicago_tnp_trips.csv\"))\n",
    "\n",
    "print(\"Original record count:\", len(tnp_trips))"
   ]
  },
  {
   "cell_type": "markdown",
   "id": "4c01e5da",
   "metadata": {},
   "source": [
    "### Data Cleaning"
   ]
  },
  {
   "cell_type": "code",
   "execution_count": null,
   "id": "3419d3c0",
   "metadata": {},
   "outputs": [
    {
     "name": "stdout",
     "output_type": "stream",
     "text": [
      "Nan dropped record count: 7508517\n"
     ]
    }
   ],
   "source": [
    "tnp_trips = tnp_trips.dropna(subset=['trip_start_timestamp',\n",
    "                                     'trip_end_timestamp',\n",
    "                                     'trip_seconds',\n",
    "                                     'trip_miles',\n",
    "                                     'pickup_community_area',\n",
    "                                     'fare',\n",
    "                                     'shared_trip_authorized',\n",
    "                                     'dropoff_community_area',\n",
    "                                     'pickup_census_tract',\n",
    "                                     'dropoff_census_tract'])\n",
    "\n",
    "tnp_trips = tnp_trips[tnp_trips[\"shared_trip_authorized\"] == False]\n",
    "\n",
    "tnp_trips[\"trip_start_timestamp\"] = pd.to_datetime(tnp_trips[\"trip_start_timestamp\"])\n",
    "tnp_trips[\"trip_end_timestamp\"] = pd.to_datetime(tnp_trips[\"trip_end_timestamp\"])\n",
    "tnp_trips[\"trip_start_date\"] = tnp_trips[\"trip_start_timestamp\"].dt.date\n",
    "tnp_trips[\"trip_end_date\"] = tnp_trips[\"trip_end_timestamp\"].dt.date\n",
    "tnp_trips = tnp_trips[tnp_trips[\"trip_start_date\"] == tnp_trips[\"trip_end_date\"]]\n",
    "\n",
    "if (SUB_FOLDER == \"2020\"):\n",
    "    tnp_trips[\"cutoff\"] = pd.to_datetime(\"2020-01-06\")\n",
    "elif (SUB_FOLDER == \"2019\"):\n",
    "    tnp_trips[\"cutoff\"] = pd.to_datetime(\"2019-01-07\")\n",
    "tnp_trips[\"trip_start_date\"] = pd.to_datetime(tnp_trips[\"trip_start_date\"])\n",
    "tnp_trips[\"days_from_cutoff\"] = (tnp_trips[\"trip_start_date\"] - tnp_trips[\"cutoff\"]).dt.days\n",
    "tnp_trips = tnp_trips[tnp_trips[\"days_from_cutoff\"].between(-30, 30)]\n",
    "\n",
    "lower_bound_2 = tnp_trips[\"trip_seconds\"].quantile(0.05)\n",
    "upper_bound_2 = tnp_trips[\"trip_seconds\"].quantile(0.95)\n",
    "lower_bound_3 = tnp_trips[\"trip_miles\"].quantile(0.05)\n",
    "upper_bound_3 = tnp_trips[\"trip_miles\"].quantile(0.95)\n",
    "tnp_trips = tnp_trips[(tnp_trips[\"trip_seconds\"] >= lower_bound_2) & (tnp_trips[\"trip_seconds\"] <= upper_bound_2) &\n",
    "                      (tnp_trips[\"trip_miles\"] >= lower_bound_3) & (tnp_trips[\"trip_miles\"] <= upper_bound_3)]\n",
    "\n",
    "print(\"Nan dropped record count:\", len(tnp_trips))"
   ]
  }
 ],
 "metadata": {
  "language_info": {
   "name": "python"
  }
 },
 "nbformat": 4,
 "nbformat_minor": 5
}
