{
 "cells": [
  {
   "cell_type": "markdown",
   "metadata": {},
   "source": [
    "# Data Processing"
   ]
  },
  {
   "cell_type": "code",
   "execution_count": null,
   "metadata": {},
   "outputs": [],
   "source": [
    "import os\n",
    "import pandas as pd\n",
    "from sklearn.decomposition import PCA\n",
    "from sklearn.preprocessing import StandardScaler\n",
    "from datetime import datetime\n",
    "from workalendar.usa import Illinois\n",
    "\n",
    "RAW_DATA_DIR = \"../../data/raw data\"\n",
    "PROCESSED_DATA_DIR = \"../../data/processed data\"\n",
    "\n",
    "SUB_FOLDER = \"2020\"\n",
    "\n",
    "cal = Illinois()"
   ]
  },
  {
   "cell_type": "markdown",
   "metadata": {},
   "source": [
    "## Communities Data"
   ]
  },
  {
   "cell_type": "code",
   "execution_count": 10,
   "metadata": {},
   "outputs": [
    {
     "name": "stdout",
     "output_type": "stream",
     "text": [
      "Original record count: 77\n"
     ]
    }
   ],
   "source": [
    "comunities = pd.read_csv(os.path.join(RAW_DATA_DIR, \"chicago_communities_stat.csv\"))\n",
    "\n",
    "print(\"Original record count:\", len(comunities))"
   ]
  },
  {
   "cell_type": "markdown",
   "metadata": {},
   "source": [
    "### Data Cleaning"
   ]
  },
  {
   "cell_type": "code",
   "execution_count": 11,
   "metadata": {},
   "outputs": [],
   "source": [
    "comunities = comunities[['OBJECTID', 'GEOID', 'GEOG',\n",
    "                         'TOT_POP', 'MED_AGE',\n",
    "                         'MEDINC', 'INCPERCAP', 'UNEMP', 'IN_LBFRC',\n",
    "                         'OWN_OCC_HU', 'MED_HV',\n",
    "                         'TOT_COMM', 'DROVE_AL', 'CARPOOL', 'TRANSIT', 'WALK_BIKE', 'COMM_OTHER', 'AGG_TT',\n",
    "                         'NO_VEH', 'ONE_VEH', 'TWO_VEH', 'THREEOM_VEH',\n",
    "                         'INTERNET',\n",
    "                         'TRANSIT_LOW_PCT', 'TRANSIT_MOD_PCT', 'TRANSIT_HIGH_PCT',\n",
    "                         'pct_pop_access_4_acres_per_1k', 'pct_pop_access_10_acres_per_1k']]"
   ]
  },
  {
   "cell_type": "markdown",
   "metadata": {},
   "source": [
    "### Save Data"
   ]
  },
  {
   "cell_type": "code",
   "execution_count": 12,
   "metadata": {},
   "outputs": [],
   "source": [
    "comunities.to_csv(os.path.join(PROCESSED_DATA_DIR, \"cleaned_communities_data.csv\"), index=False)"
   ]
  },
  {
   "cell_type": "markdown",
   "metadata": {},
   "source": [
    "## ACS Data"
   ]
  },
  {
   "cell_type": "code",
   "execution_count": 13,
   "metadata": {},
   "outputs": [
    {
     "name": "stdout",
     "output_type": "stream",
     "text": [
      "Original record count: 1332\n"
     ]
    }
   ],
   "source": [
    "acs = pd.read_csv(os.path.join(RAW_DATA_DIR, \"chicago_acs_data.csv\"))\n",
    "\n",
    "print(\"Original record count:\", len(acs))"
   ]
  },
  {
   "cell_type": "markdown",
   "metadata": {},
   "source": [
    "### Data Cleaning"
   ]
  },
  {
   "cell_type": "code",
   "execution_count": 14,
   "metadata": {},
   "outputs": [
    {
     "name": "stdout",
     "output_type": "stream",
     "text": [
      "Cleaned record count: 1323\n"
     ]
    }
   ],
   "source": [
    "acs = acs[acs[\"MEDINC\"] >= 0]\n",
    "\n",
    "print(\"Cleaned record count:\", len(acs))"
   ]
  },
  {
   "cell_type": "markdown",
   "metadata": {},
   "source": [
    "### Save Data"
   ]
  },
  {
   "cell_type": "code",
   "execution_count": 15,
   "metadata": {},
   "outputs": [],
   "source": [
    "acs.to_csv(os.path.join(PROCESSED_DATA_DIR, \"cleaned_acs_data.csv\"), index=False)"
   ]
  },
  {
   "cell_type": "markdown",
   "metadata": {},
   "source": [
    "## Weather Data"
   ]
  },
  {
   "cell_type": "code",
   "execution_count": 16,
   "metadata": {},
   "outputs": [
    {
     "name": "stdout",
     "output_type": "stream",
     "text": [
      "Original record count: 113\n"
     ]
    }
   ],
   "source": [
    "weather = pd.read_csv(os.path.join(RAW_DATA_DIR, SUB_FOLDER, \"chicago_weather.csv\"))\n",
    "\n",
    "print(\"Original record count:\", len(weather))"
   ]
  },
  {
   "cell_type": "markdown",
   "metadata": {},
   "source": [
    "### Manipulation"
   ]
  },
  {
   "cell_type": "code",
   "execution_count": 17,
   "metadata": {},
   "outputs": [
    {
     "name": "stdout",
     "output_type": "stream",
     "text": [
      "        WSI  Avg_Wind_Speed_mps  Precipitation_mm  Snowfall_mm  Snow_Depth_mm  \\\n",
      "0 -1.211753                 5.8               0.0          0.0            0.0   \n",
      "1 -1.447672                 3.1               0.0          0.0            0.0   \n",
      "2 -1.253279                 3.4               1.5          0.0            0.0   \n",
      "3 -0.295030                 6.7              13.7          0.0            0.0   \n",
      "4 -0.931124                 4.3               9.4          0.0            0.0   \n",
      "\n",
      "   Avg_Temp_C  \n",
      "0        10.3  \n",
      "1         6.7  \n",
      "2         5.7  \n",
      "3         8.9  \n",
      "4         8.9  \n"
     ]
    }
   ],
   "source": [
    "weather[\"Date\"] = pd.to_datetime(weather[\"Date\"])\n",
    "weather[\"Date\"] = weather[\"Date\"].dt.date\n",
    "\n",
    "# Select weather variables\n",
    "weather_features = [\"Avg_Wind_Speed_mps\", \"Precipitation_mm\", \"Snowfall_mm\", \"Snow_Depth_mm\", \"Avg_Temp_C\"]\n",
    "df_weather = weather[weather_features]\n",
    "\n",
    "# Standardize data (PCA is sensitive to scale, so standardization is required)\n",
    "scaler = StandardScaler()\n",
    "df_weather_scaled = scaler.fit_transform(df_weather)\n",
    "\n",
    "# Perform PCA dimensionality reduction (retain the first principal component)\n",
    "pca = PCA(n_components=1)\n",
    "weather[\"WSI\"] = pca.fit_transform(df_weather_scaled)\n",
    "\n",
    "# Display WSI results\n",
    "print(weather[[\"WSI\"] + weather_features].head())"
   ]
  },
  {
   "cell_type": "markdown",
   "metadata": {},
   "source": [
    "### Save Data"
   ]
  },
  {
   "cell_type": "code",
   "execution_count": 18,
   "metadata": {},
   "outputs": [],
   "source": [
    "weather.to_csv(os.path.join(PROCESSED_DATA_DIR, SUB_FOLDER, \"cleaned_weather_data.csv\"), index=False)"
   ]
  },
  {
   "cell_type": "markdown",
   "metadata": {},
   "source": [
    "## Public Transportation"
   ]
  },
  {
   "cell_type": "code",
   "execution_count": 19,
   "metadata": {},
   "outputs": [
    {
     "name": "stdout",
     "output_type": "stream",
     "text": [
      "Original record count: 8828\n"
     ]
    }
   ],
   "source": [
    "public_transportation = pd.read_csv(os.path.join(RAW_DATA_DIR, \"chicago_public_transportation.csv\"))\n",
    "\n",
    "print(\"Original record count:\", len(public_transportation))"
   ]
  },
  {
   "cell_type": "markdown",
   "metadata": {},
   "source": [
    "### Manipulation"
   ]
  },
  {
   "cell_type": "code",
   "execution_count": 20,
   "metadata": {},
   "outputs": [],
   "source": [
    "public_transportation[\"service_date\"] = pd.to_datetime(public_transportation[\"service_date\"]).dt.date"
   ]
  },
  {
   "cell_type": "markdown",
   "metadata": {},
   "source": [
    "### Save Data"
   ]
  },
  {
   "cell_type": "code",
   "execution_count": 21,
   "metadata": {},
   "outputs": [],
   "source": [
    "public_transportation.to_csv(os.path.join(PROCESSED_DATA_DIR, \"cleaned_public_transportation_data.csv\"), index=False)"
   ]
  }
 ],
 "metadata": {
  "kernelspec": {
   "display_name": "base",
   "language": "python",
   "name": "python3"
  },
  "language_info": {
   "codemirror_mode": {
    "name": "ipython",
    "version": 3
   },
   "file_extension": ".py",
   "mimetype": "text/x-python",
   "name": "python",
   "nbconvert_exporter": "python",
   "pygments_lexer": "ipython3",
   "version": "3.11.8"
  }
 },
 "nbformat": 4,
 "nbformat_minor": 2
}
