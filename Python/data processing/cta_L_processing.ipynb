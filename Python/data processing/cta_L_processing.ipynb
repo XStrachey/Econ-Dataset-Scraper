{
 "cells": [
  {
   "cell_type": "code",
   "execution_count": 6,
   "id": "8b429521",
   "metadata": {},
   "outputs": [],
   "source": [
    "import os\n",
    "import pandas as pd\n",
    "from sklearn.decomposition import PCA\n",
    "from sklearn.preprocessing import StandardScaler\n",
    "from datetime import datetime\n",
    "from workalendar.usa import Illinois\n",
    "import geopandas as gpd\n",
    "from shapely.wkt import loads\n",
    "\n",
    "RAW_DATA_DIR = \"../../data/raw data\"\n",
    "PROCESSED_DATA_DIR = \"../../data/processed data\""
   ]
  },
  {
   "cell_type": "code",
   "execution_count": 7,
   "id": "c654b1dc",
   "metadata": {},
   "outputs": [],
   "source": [
    "cta = pd.read_csv(os.path.join(RAW_DATA_DIR, \"chicago_cta_L.csv\"))\n",
    "cta_geo = pd.read_csv(os.path.join(RAW_DATA_DIR, \"chicago_cta_L_stations.csv\"))"
   ]
  },
  {
   "cell_type": "code",
   "execution_count": 8,
   "id": "fcca034a",
   "metadata": {},
   "outputs": [],
   "source": [
    "cta[\"date\"] = pd.to_datetime(cta[\"date\"])\n",
    "start_date = pd.to_datetime(\"2018-11-01\")\n",
    "end_date = pd.to_datetime(\"2020-03-01\")\n",
    "cta = cta[(cta[\"date\"] > start_date) & (cta[\"date\"] < end_date)]\n",
    "\n",
    "cta = cta.merge(cta_geo, left_on=\"station_id\", right_on=\"map_id\", how=\"left\")\n",
    "\n",
    "cta = cta.dropna(subset=['location'])"
   ]
  },
  {
   "cell_type": "code",
   "execution_count": 9,
   "id": "6f6634f7",
   "metadata": {},
   "outputs": [
    {
     "name": "stdout",
     "output_type": "stream",
     "text": [
      "Index(['station_id', 'stationname', 'date', 'daytype', 'rides', 'stop_id',\n",
      "       'direction_id', 'stop_name', 'station_name', 'station_descriptive_name',\n",
      "       'map_id', 'ada', 'red', 'blue', 'g', 'brn', 'p', 'pexp', 'y', 'pnk',\n",
      "       'o', 'location', ':@computed_region_awaf_s7ux',\n",
      "       ':@computed_region_6mkv_f3dw', ':@computed_region_vrxf_vc4k',\n",
      "       ':@computed_region_bdys_3d7i', ':@computed_region_43wa_7qmu',\n",
      "       'geometry', 'index_right', 'GEOID10'],\n",
      "      dtype='object')\n"
     ]
    }
   ],
   "source": [
    "# === 1. 读取 tract 边界并构建 GeoDataFrame ===\n",
    "tract_df = pd.read_csv(\"../../data/raw data/chicago_census_blocks_boundaries.csv\")\n",
    "\n",
    "# 解析 geometry\n",
    "tract_df[\"geometry\"] = tract_df[\"the_geom\"].apply(loads)\n",
    "tract_gdf = gpd.GeoDataFrame(tract_df, geometry=\"geometry\", crs=\"EPSG:4326\")\n",
    "\n",
    "# 只保留 tract 边界和 tract ID\n",
    "tract_gdf = tract_gdf[[\"GEOID10\", \"geometry\"]]  # 确保你有 GEOID10 字段\n",
    "\n",
    "# === 2. 解析 CTA 站点为 GeoDataFrame ===\n",
    "from shapely.geometry import Point\n",
    "import ast  # 用于解析字符串格式的字典\n",
    "\n",
    "# === 解析 location 字段为 Point 类型 ===\n",
    "def extract_point(loc_str):\n",
    "    try:\n",
    "        loc = ast.literal_eval(loc_str)\n",
    "        lat = float(loc[\"latitude\"])\n",
    "        lon = float(loc[\"longitude\"])\n",
    "        return Point(lon, lat)  # 注意顺序：Point(x, y) = Point(longitude, latitude)\n",
    "    except Exception as e:\n",
    "        return None\n",
    "\n",
    "cta[\"geometry\"] = cta[\"location\"].apply(extract_point)\n",
    "\n",
    "# 移除解析失败的记录\n",
    "cta = cta.dropna(subset=[\"geometry\"])\n",
    "\n",
    "# 转换为 GeoDataFrame\n",
    "cta_gdf = gpd.GeoDataFrame(cta, geometry=\"geometry\", crs=\"EPSG:4326\")\n",
    "\n",
    "# === 3. 做空间连接：cta_gdf 内点 → tract_gdf 多边形 ===\n",
    "cta_joined = gpd.sjoin(cta_gdf, tract_gdf, how=\"left\", predicate=\"within\")\n",
    "print(cta_joined.columns)\n",
    "\n",
    "cta_joined = cta_joined.dropna(subset=['GEOID10'])\n"
   ]
  },
  {
   "cell_type": "code",
   "execution_count": 10,
   "id": "9b2549ce",
   "metadata": {},
   "outputs": [],
   "source": [
    "cta_joined[\"GEOID10\"] = cta_joined[\"GEOID10\"].astype(float).astype(int).astype(str).str.zfill(11)\n",
    "\n",
    "cta_grouped = (\n",
    "    cta_joined.groupby(['GEOID10', 'date'])\n",
    "    .agg({\n",
    "        \"rides\": \"sum\",\n",
    "        \"daytype\": \"first\"\n",
    "    })\n",
    "    .reset_index()\n",
    ")"
   ]
  },
  {
   "cell_type": "code",
   "execution_count": 11,
   "id": "76ad6f57",
   "metadata": {},
   "outputs": [],
   "source": [
    "cta_grouped.to_csv(os.path.join(PROCESSED_DATA_DIR, \"cleaned_cta_L_data.csv\"), index=False)"
   ]
  }
 ],
 "metadata": {
  "kernelspec": {
   "display_name": "base",
   "language": "python",
   "name": "python3"
  },
  "language_info": {
   "codemirror_mode": {
    "name": "ipython",
    "version": 3
   },
   "file_extension": ".py",
   "mimetype": "text/x-python",
   "name": "python",
   "nbconvert_exporter": "python",
   "pygments_lexer": "ipython3",
   "version": "3.11.8"
  }
 },
 "nbformat": 4,
 "nbformat_minor": 5
}
