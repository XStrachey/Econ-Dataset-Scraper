{
 "cells": [
  {
   "cell_type": "code",
   "execution_count": 14,
   "id": "68d930a6",
   "metadata": {},
   "outputs": [],
   "source": [
    "import os\n",
    "import pandas as pd\n",
    "import numpy as np\n",
    "import statsmodels.api as sm\n",
    "import statsmodels.formula.api as smf\n",
    "import matplotlib.pyplot as plt\n",
    "import matplotlib.ticker as ticker\n",
    "import seaborn as sns\n",
    "from sklearn.preprocessing import StandardScaler\n",
    "\n",
    "MERGED_DATA_DIR = \"../../data/merged data\"\n",
    "OUTPUT_DIR = \"../../output/assumption\"\n",
    "\n",
    "# Load the dataset\n",
    "tnp_20 = pd.read_csv(os.path.join(MERGED_DATA_DIR, \"2020\", \"merged_tnp_data.csv\"))\n",
    "tnp_19 = pd.read_csv(os.path.join(MERGED_DATA_DIR, \"2019\", \"merged_tnp_data.csv\"))"
   ]
  },
  {
   "cell_type": "code",
   "execution_count": 15,
   "id": "b3d19989",
   "metadata": {},
   "outputs": [],
   "source": [
    "# 添加年份指示变量\n",
    "tnp_20[\"is_2020\"] = 1\n",
    "tnp_19[\"is_2020\"] = 0\n",
    "\n",
    "scaler = StandardScaler()\n",
    "cols_to_scale = [\"daily_bus_rides\", \"rides\"]\n",
    "tnp_20[cols_to_scale] = scaler.fit_transform(tnp_20[cols_to_scale])\n",
    "tnp_19[cols_to_scale] = scaler.fit_transform(tnp_19[cols_to_scale])\n",
    "\n",
    "# 拼接数据\n",
    "merged_df = pd.concat([tnp_20, tnp_19], ignore_index=True)\n",
    "merged_df[\"price\"] = merged_df[\"fare\"] + merged_df[\"additional_charges\"]\n",
    "\n",
    "# 确保日期变量是 datetime 类型（后续 RDiT 会用到）\n",
    "merged_df[\"trip_start_date\"] = pd.to_datetime(merged_df[\"trip_start_date\"])\n",
    "\n",
    "# 创建工作日虚拟变量，drop_first=True 是为了避免虚拟变量陷阱\n",
    "day_dummies = pd.get_dummies(merged_df['day_of_week'], prefix='dow', drop_first=True)\n",
    "\n",
    "# 合并到原始数据中\n",
    "merged_df = pd.concat([merged_df, day_dummies], axis=1)\n",
    "\n",
    "# 创建地区虚拟变量，drop_first=True 是为了避免虚拟变量陷阱\n",
    "area_dummies = pd.get_dummies(merged_df['area_type'], prefix='at', drop_first=True)\n",
    "\n",
    "# 合并到原始数据中\n",
    "merged_df = pd.concat([merged_df, area_dummies], axis=1)"
   ]
  },
  {
   "cell_type": "code",
   "execution_count": 16,
   "id": "040d39ed",
   "metadata": {},
   "outputs": [],
   "source": [
    "tnp_20.to_stata(\"../../data/STATA/tnp_20.dta\", write_index=False)\n",
    "tnp_19.to_stata(\"../../data/STATA/tnp_19.dta\", write_index=False)\n",
    "merged_df.to_stata(\"../../data/STATA/merged_df.dta\", write_index=False)"
   ]
  }
 ],
 "metadata": {
  "kernelspec": {
   "display_name": "base",
   "language": "python",
   "name": "python3"
  },
  "language_info": {
   "codemirror_mode": {
    "name": "ipython",
    "version": 3
   },
   "file_extension": ".py",
   "mimetype": "text/x-python",
   "name": "python",
   "nbconvert_exporter": "python",
   "pygments_lexer": "ipython3",
   "version": "3.11.8"
  }
 },
 "nbformat": 4,
 "nbformat_minor": 5
}
