{
 "cells": [
  {
   "cell_type": "code",
   "execution_count": 1,
   "id": "8db078cf",
   "metadata": {},
   "outputs": [
    {
     "name": "stdout",
     "output_type": "stream",
     "text": [
      "[High vs Low] Wald = 98.14, p = 0.0000\n",
      "[Mid vs Low]  Wald = 59.13, p = 0.0000\n",
      "[High vs Mid] Wald = 19.45, p = 0.0000\n",
      "[Joint Test: High & Mid vs Low] Wald = 108.00, p = 0.0000\n"
     ]
    }
   ],
   "source": [
    "import numpy as np\n",
    "from scipy.stats import chi2\n",
    "\n",
    "# 输入估计值和标准误\n",
    "beta_L, se_L = 1.264, 0.069\n",
    "beta_M, se_M = 1.831, 0.026\n",
    "beta_H, se_H = 1.968, 0.017\n",
    "\n",
    "# 差值和方差\n",
    "d_HL = beta_H - beta_L\n",
    "var_HL = se_H**2 + se_L**2\n",
    "wald_HL = d_HL**2 / var_HL\n",
    "pval_HL = chi2.sf(wald_HL, df=1)\n",
    "\n",
    "d_ML = beta_M - beta_L\n",
    "var_ML = se_M**2 + se_L**2\n",
    "wald_ML = d_ML**2 / var_ML\n",
    "pval_ML = chi2.sf(wald_ML, df=1)\n",
    "\n",
    "d_HM = beta_H - beta_M\n",
    "var_HM = se_H**2 + se_M**2\n",
    "wald_HM = d_HM**2 / var_HM\n",
    "pval_HM = chi2.sf(wald_HM, df=1)\n",
    "\n",
    "# 联合检验（高、中 vs 低）\n",
    "d_vec = np.array([d_HL, d_ML])\n",
    "cov_matrix = np.array([\n",
    "    [var_HL, se_L**2],\n",
    "    [se_L**2, var_ML]\n",
    "])\n",
    "inv_cov = np.linalg.inv(cov_matrix)\n",
    "wald_joint = d_vec.T @ inv_cov @ d_vec\n",
    "pval_joint = chi2.sf(wald_joint, df=2)\n",
    "\n",
    "# 输出结果\n",
    "print(f\"[High vs Low] Wald = {wald_HL:.2f}, p = {pval_HL:.4f}\")\n",
    "print(f\"[Mid vs Low]  Wald = {wald_ML:.2f}, p = {pval_ML:.4f}\")\n",
    "print(f\"[High vs Mid] Wald = {wald_HM:.2f}, p = {pval_HM:.4f}\")\n",
    "print(f\"[Joint Test: High & Mid vs Low] Wald = {wald_joint:.2f}, p = {pval_joint:.4f}\")"
   ]
  }
 ],
 "metadata": {
  "kernelspec": {
   "display_name": "base",
   "language": "python",
   "name": "python3"
  },
  "language_info": {
   "codemirror_mode": {
    "name": "ipython",
    "version": 3
   },
   "file_extension": ".py",
   "mimetype": "text/x-python",
   "name": "python",
   "nbconvert_exporter": "python",
   "pygments_lexer": "ipython3",
   "version": "3.11.8"
  }
 },
 "nbformat": 4,
 "nbformat_minor": 5
}
