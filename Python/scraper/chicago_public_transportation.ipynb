{
 "cells": [
  {
   "cell_type": "code",
   "execution_count": null,
   "metadata": {},
   "outputs": [
    {
     "name": "stdout",
     "output_type": "stream",
     "text": [
      "✅ Fetched 8828 records, total: 8828 records.\n",
      "✅ No more data available. Fetching completed.\n",
      "📁 Data saved to ../../data/raw data/chicago_bus_2020.csv\n"
     ]
    }
   ],
   "source": [
    "# https://data.cityofchicago.org/Transportation/CTA-Ridership-Daily-Boarding-Totals/6iiy-9s97/about_data\n",
    "\n",
    "import requests\n",
    "import pandas as pd\n",
    "import json\n",
    "import time\n",
    "import os\n",
    "from datetime import datetime, timedelta\n",
    "\n",
    "SAVE_DIR = \"../../data/raw data\"\n",
    "os.makedirs(SAVE_DIR, exist_ok=True)\n",
    "\n",
    "# Socrata API endpoint\n",
    "BASE_URL = \"https://data.cityofchicago.org/resource/6iiy-9s97.json\"\n",
    "\n",
    "# SODA 2.1 API Parameters (Using SQL-like query)\n",
    "LIMIT = 1000000  # Maximum records per request\n",
    "WINDOW_SIZE = 5\n",
    "DATA = []\n",
    "\n",
    "def fetch_data():\n",
    "    OFFSET = 0\n",
    "    temp_data = []\n",
    "\n",
    "    while True:\n",
    "        query = f\"\"\"\n",
    "            SELECT * \n",
    "            LIMIT {LIMIT} OFFSET {OFFSET}\n",
    "        \"\"\"\n",
    "\n",
    "        params = {\"$query\": query}  # Using SODA 2.1 SQL query\n",
    "        response = requests.get(BASE_URL, params=params)\n",
    "\n",
    "        if response.status_code != 200:\n",
    "            print(f\"❌ Error: {response.status_code} - {response.text}\")\n",
    "            break\n",
    "\n",
    "        records = response.json()\n",
    "\n",
    "        if not records:\n",
    "            print(\"✅ No more data available. Fetching completed.\")\n",
    "            break\n",
    "\n",
    "        temp_data.extend(records)\n",
    "        print(f\"✅ Fetched {len(records)} records, total: {len(temp_data)} records.\")\n",
    "\n",
    "        OFFSET += LIMIT  # Increase offset for pagination\n",
    "        time.sleep(1)  # Prevent rate limiting\n",
    "\n",
    "    return temp_data\n",
    "\n",
    "daily_data = fetch_data()\n",
    "if daily_data:\n",
    "    DATA.extend(daily_data)\n",
    "\n",
    "# **Convert and save as CSV**\n",
    "df = pd.DataFrame(DATA)\n",
    "csv_file = os.path.join(SAVE_DIR, \"chicago_public_transportation.csv\")\n",
    "df.to_csv(csv_file, index=False)\n",
    "print(f\"📁 Data saved to {csv_file}\")"
   ]
  }
 ],
 "metadata": {
  "kernelspec": {
   "display_name": "base",
   "language": "python",
   "name": "python3"
  },
  "language_info": {
   "codemirror_mode": {
    "name": "ipython",
    "version": 3
   },
   "file_extension": ".py",
   "mimetype": "text/x-python",
   "name": "python",
   "nbconvert_exporter": "python",
   "pygments_lexer": "ipython3",
   "version": "3.11.8"
  }
 },
 "nbformat": 4,
 "nbformat_minor": 2
}
