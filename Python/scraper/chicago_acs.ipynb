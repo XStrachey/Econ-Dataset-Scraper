{
 "cells": [
  {
   "cell_type": "code",
   "execution_count": null,
   "metadata": {},
   "outputs": [
    {
     "name": "stdout",
     "output_type": "stream",
     "text": [
      "✅ Data downloaded and standardized. Files saved to: ../../data/raw data\n"
     ]
    }
   ],
   "source": [
    "# This script is scrape the data on census track level.\n",
    "# census track level: https://www.census.gov/data/developers/data-sets/acs-5year.html\n",
    "# community level data: https://cmap.illinois.gov/data/community-data-snapshots/\n",
    "\n",
    "# This script scrapes ACS 5-year Profile data (2020) for Cook County, IL at the tract level.\n",
    "# It selects only income-related variables relevant for clustering by socioeconomic background.\n",
    "\n",
    "import requests\n",
    "import pandas as pd\n",
    "import os\n",
    "from sklearn.preprocessing import StandardScaler\n",
    "\n",
    "# ---------- Settings ----------\n",
    "SAVE_DIR = \"../../data/raw data\"\n",
    "YEAR = \"2020\"\n",
    "DATASET = \"acs/acs5/profile\"\n",
    "STATE = \"17\"       # Illinois\n",
    "COUNTY = \"031\"     # Cook County\n",
    "\n",
    "# ---------- Variables (income & social support related) ----------\n",
    "VARIABLES = {\n",
    "    \"MEDINC\": \"DP03_0062E\",          # Median Household Income\n",
    "    \"INCPERCAP\": \"DP03_0088E\",       # Per Capita Income\n",
    "    \"INC_LT10K\": \"DP03_0052E\",       # Income < $10k\n",
    "    \"INC_10_15K\": \"DP03_0053E\",\n",
    "    \"INC_15_25K\": \"DP03_0054E\",\n",
    "    \"INC_25_35K\": \"DP03_0055E\",\n",
    "    \"INC_35_50K\": \"DP03_0056E\",\n",
    "    \"INC_50_75K\": \"DP03_0057E\",\n",
    "    \"INC_75_100K\": \"DP03_0058E\",\n",
    "    \"INC_100_150K\": \"DP03_0059E\",\n",
    "    \"INC_150_200K\": \"DP03_0060E\",\n",
    "    \"INC_GT200K\": \"DP03_0061E\",\n",
    "    \"POVERTY_RATE\": \"DP03_0119PE\",   # % Below Poverty Line\n",
    "    \"SNAP\": \"DP03_0074E\",            # Households with Food Stamps/SNAP\n",
    "    \"SS_INCOME\": \"DP03_0066E\",       # Households with Social Security Income\n",
    "}\n",
    "\n",
    "# ---------- API Request ----------\n",
    "BASE_URL = f\"https://api.census.gov/data/{YEAR}/{DATASET}\"\n",
    "PARAMS = {\n",
    "    \"get\": \",\".join(VARIABLES.values()),\n",
    "    \"for\": \"tract:*\",\n",
    "    \"in\": f\"state:{STATE}+county:{COUNTY}\"\n",
    "}\n",
    "\n",
    "response = requests.get(BASE_URL, params=PARAMS)\n",
    "\n",
    "if response.status_code == 200:\n",
    "    data = response.json()\n",
    "    columns = list(VARIABLES.keys()) + [\"State\", \"County\", \"Tract\"]\n",
    "    df = pd.DataFrame(data[1:], columns=columns)\n",
    "\n",
    "    # ---------- Preprocessing ----------\n",
    "    df[\"GEOID\"] = df[\"State\"] + df[\"County\"] + df[\"Tract\"]\n",
    "\n",
    "    for col in VARIABLES:\n",
    "        df[col] = pd.to_numeric(df[col], errors=\"coerce\")\n",
    "\n",
    "    # ---------- Save ----------\n",
    "    os.makedirs(SAVE_DIR, exist_ok=True)\n",
    "    df.to_csv(os.path.join(SAVE_DIR, \"chicago_acs_data.csv\"), index=False)\n",
    "\n",
    "    print(\"✅ Data downloaded and standardized. Files saved to:\", SAVE_DIR)\n",
    "else:\n",
    "    print(f\"❌ Request failed: {response.status_code}\")\n",
    "    print(response.text)\n"
   ]
  }
 ],
 "metadata": {
  "kernelspec": {
   "display_name": "base",
   "language": "python",
   "name": "python3"
  },
  "language_info": {
   "codemirror_mode": {
    "name": "ipython",
    "version": 3
   },
   "file_extension": ".py",
   "mimetype": "text/x-python",
   "name": "python",
   "nbconvert_exporter": "python",
   "pygments_lexer": "ipython3",
   "version": "3.11.8"
  }
 },
 "nbformat": 4,
 "nbformat_minor": 2
}
